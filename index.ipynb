{
 "cells": [
  {
   "cell_type": "markdown",
   "metadata": {},
   "source": [
    "# Single Variable Calculus Lab"
   ]
  },
  {
   "cell_type": "markdown",
   "metadata": {},
   "source": [
    "In this lab, we will practice our knowledge of derivatives.  We know the following about derivatives, and we want to translate it into code in this lab.\n",
    "\n",
    "1. Our intuitive explanation that a derivative is the instantaneous rate of change of a function\n",
    "2. Our mathematical definition that\n",
    "$f'(x) = \\frac{\\Delta y}{\\Delta x} =  \\frac{f(x + h) - f(x)}{h}$\n",
    "3. Our graphical understanding that a derivative at a given point equals the slope of the tangent line at a given point  \n",
    "\n",
    "But before getting to derivatives, let's start with functions."
   ]
  },
  {
   "cell_type": "markdown",
   "metadata": {},
   "source": [
    "### Starting with functions"
   ]
  },
  {
   "cell_type": "markdown",
   "metadata": {},
   "source": [
    "#### Representing Functions"
   ]
  },
  {
   "cell_type": "markdown",
   "metadata": {},
   "source": [
    "Before learning to take the derivative of a function in code, we need to learn how to express any kind of function in code.  For example, we want to write the function $f(x) = 2x^2 + 4x - 10 $ in a way that allows us to easily determine the exponent of each term.\n",
    "\n",
    "This is our technique: write the formula as a list of tuples.  Take the following function as an example: \n",
    "\n",
    "$$f(x) = 4x^2 + 4x - 10 $$"
   ]
  },
  {
   "cell_type": "markdown",
   "metadata": {},
   "source": [
    "Here it is as a list of tuples:"
   ]
  },
  {
   "cell_type": "code",
   "execution_count": 1,
   "metadata": {
    "collapsed": true
   },
   "outputs": [],
   "source": [
    "four_x_squared_plus_four_x_minus_ten = [(4, 2), (4, 1), (-10, 0)]"
   ]
  },
  {
   "cell_type": "markdown",
   "metadata": {},
   "source": [
    "So each tuple in the list represents a different term in the function.  The first element of the tuple is the term's constant and the second element of the tuple is the term's exponent.  Thus $4x^2$ translates to `(4, 2)` and  $-10$ translates to `(-10, 0)` because $-10$ equals $-10*x^0$.  \n",
    "> We'll refer to this list of tuples as \"list of terms\", or `list_of_terms`."
   ]
  },
  {
   "cell_type": "markdown",
   "metadata": {},
   "source": [
    "Ok, so give this a shot. Write $ f(x) = 4x^3 + 11x^2 $ as a list of terms.  Assign it to the variable `four_x_cubed_plus_eleven_x_squared`."
   ]
  },
  {
   "cell_type": "code",
   "execution_count": 3,
   "metadata": {
    "collapsed": true
   },
   "outputs": [],
   "source": [
    "four_x_cubed_plus_eleven_x_squared = []"
   ]
  },
  {
   "cell_type": "markdown",
   "metadata": {},
   "source": [
    "#### Evaluating a function at a specific point "
   ]
  },
  {
   "cell_type": "markdown",
   "metadata": {},
   "source": [
    "Now that we can represent $f(x)$ in code, let's write a Python function called `term_output` that can evaluate what a single term equals at a value of $x$.  \n",
    "\n",
    "* For example, when $x = 2$, the term $3x^2 = 3*2^2 = 12 $.  \n",
    "* So we represent $3x^2$ in code as `(3, 2)`, and: \n",
    "* `term_output((3, 2), 2)` should return 12\n"
   ]
  },
  {
   "cell_type": "code",
   "execution_count": 4,
   "metadata": {
    "collapsed": true
   },
   "outputs": [],
   "source": [
    "def term_output(term, x_value):\n",
    "    pass"
   ]
  },
  {
   "cell_type": "code",
   "execution_count": 5,
   "metadata": {
    "collapsed": true
   },
   "outputs": [],
   "source": [
    "term_output((3, 2), 2) # 12"
   ]
  },
  {
   "cell_type": "markdown",
   "metadata": {},
   "source": [
    "Now write a function called `output_at`, when passed a `list_of_terms` and a value of $x$, calculates the value of the function at that value.  \n",
    "> * For example, we'll use `output_at` to calculate $f(x) = 3x^2 - 11$.  \n",
    "> * Then `output_at([(3, 2), (-11, 0)], 2)` should return $f(2) = 3*2^2 - 11 = 1$"
   ]
  },
  {
   "cell_type": "code",
   "execution_count": 6,
   "metadata": {
    "collapsed": true
   },
   "outputs": [],
   "source": [
    "def output_at(list_of_terms, x_value):\n",
    "    pass"
   ]
  },
  {
   "cell_type": "code",
   "execution_count": 9,
   "metadata": {
    "collapsed": true
   },
   "outputs": [],
   "source": [
    "three_x_squared_minus_eleven = [(3, 2), (-11, 0)]\n",
    "output_at(three_x_squared_minus_eleven, 2) # 1 \n",
    "output_at(three_x_squared_minus_eleven, 3) # 16"
   ]
  },
  {
   "cell_type": "markdown",
   "metadata": {},
   "source": [
    "Now we can use our `output_at` function to display our function graphically.  We simply declare a list of `x_values` and then calculate `output_at` for each of the `x_values`."
   ]
  },
  {
   "cell_type": "code",
   "execution_count": 15,
   "metadata": {},
   "outputs": [
    {
     "data": {
      "text/html": [
       "<script>requirejs.config({paths: { 'plotly': ['https://cdn.plot.ly/plotly-latest.min']},});if(!window.Plotly) {{require(['plotly'],function(plotly) {window.Plotly=plotly;});}}</script>"
      ],
      "text/vnd.plotly.v1+html": [
       "<script>requirejs.config({paths: { 'plotly': ['https://cdn.plot.ly/plotly-latest.min']},});if(!window.Plotly) {{require(['plotly'],function(plotly) {window.Plotly=plotly;});}}</script>"
      ]
     },
     "metadata": {},
     "output_type": "display_data"
    },
    {
     "data": {
      "application/vnd.plotly.v1+json": {
       "data": [
        {
         "mode": "line",
         "name": "data",
         "text": [],
         "x": [
          -30,
          -29,
          -28,
          -27,
          -26,
          -25,
          -24,
          -23,
          -22,
          -21,
          -20,
          -19,
          -18,
          -17,
          -16,
          -15,
          -14,
          -13,
          -12,
          -11,
          -10,
          -9,
          -8,
          -7,
          -6,
          -5,
          -4,
          -3,
          -2,
          -1,
          0,
          1,
          2,
          3,
          4,
          5,
          6,
          7,
          8,
          9,
          10,
          11,
          12,
          13,
          14,
          15,
          16,
          17,
          18,
          19,
          20,
          21,
          22,
          23,
          24,
          25,
          26,
          27,
          28,
          29
         ],
         "y": [
          null,
          null,
          null,
          null,
          null,
          null,
          null,
          null,
          null,
          null,
          null,
          null,
          null,
          null,
          null,
          null,
          null,
          null,
          null,
          null,
          null,
          null,
          null,
          null,
          null,
          null,
          null,
          null,
          null,
          null,
          null,
          null,
          null,
          null,
          null,
          null,
          null,
          null,
          null,
          null,
          null,
          null,
          null,
          null,
          null,
          null,
          null,
          null,
          null,
          null,
          null,
          null,
          null,
          null,
          null,
          null,
          null,
          null,
          null,
          null
         ]
        }
       ],
       "layout": {}
      },
      "text/html": [
       "<div id=\"790673b1-ee02-4d13-95b8-e9f3e0cb155a\" style=\"height: 525px; width: 100%;\" class=\"plotly-graph-div\"></div><script type=\"text/javascript\">require([\"plotly\"], function(Plotly) { window.PLOTLYENV=window.PLOTLYENV || {};window.PLOTLYENV.BASE_URL=\"https://plot.ly\";Plotly.newPlot(\"790673b1-ee02-4d13-95b8-e9f3e0cb155a\", [{\"x\": [-30, -29, -28, -27, -26, -25, -24, -23, -22, -21, -20, -19, -18, -17, -16, -15, -14, -13, -12, -11, -10, -9, -8, -7, -6, -5, -4, -3, -2, -1, 0, 1, 2, 3, 4, 5, 6, 7, 8, 9, 10, 11, 12, 13, 14, 15, 16, 17, 18, 19, 20, 21, 22, 23, 24, 25, 26, 27, 28, 29], \"y\": [null, null, null, null, null, null, null, null, null, null, null, null, null, null, null, null, null, null, null, null, null, null, null, null, null, null, null, null, null, null, null, null, null, null, null, null, null, null, null, null, null, null, null, null, null, null, null, null, null, null, null, null, null, null, null, null, null, null, null, null], \"mode\": \"line\", \"name\": \"data\", \"text\": []}], {}, {\"showLink\": {\"title\": \"3x^2 - 11\"}, \"linkText\": \"Export to plot.ly\"})});</script>"
      ],
      "text/vnd.plotly.v1+html": [
       "<div id=\"790673b1-ee02-4d13-95b8-e9f3e0cb155a\" style=\"height: 525px; width: 100%;\" class=\"plotly-graph-div\"></div><script type=\"text/javascript\">require([\"plotly\"], function(Plotly) { window.PLOTLYENV=window.PLOTLYENV || {};window.PLOTLYENV.BASE_URL=\"https://plot.ly\";Plotly.newPlot(\"790673b1-ee02-4d13-95b8-e9f3e0cb155a\", [{\"x\": [-30, -29, -28, -27, -26, -25, -24, -23, -22, -21, -20, -19, -18, -17, -16, -15, -14, -13, -12, -11, -10, -9, -8, -7, -6, -5, -4, -3, -2, -1, 0, 1, 2, 3, 4, 5, 6, 7, 8, 9, 10, 11, 12, 13, 14, 15, 16, 17, 18, 19, 20, 21, 22, 23, 24, 25, 26, 27, 28, 29], \"y\": [null, null, null, null, null, null, null, null, null, null, null, null, null, null, null, null, null, null, null, null, null, null, null, null, null, null, null, null, null, null, null, null, null, null, null, null, null, null, null, null, null, null, null, null, null, null, null, null, null, null, null, null, null, null, null, null, null, null, null, null], \"mode\": \"line\", \"name\": \"data\", \"text\": []}], {}, {\"showLink\": {\"title\": \"3x^2 - 11\"}, \"linkText\": \"Export to plot.ly\"})});</script>"
      ]
     },
     "metadata": {},
     "output_type": "display_data"
    }
   ],
   "source": [
    "import plotly\n",
    "from plotly.offline import iplot, init_notebook_mode\n",
    "init_notebook_mode(connected=True)\n",
    "\n",
    "from graph import plot, trace_values\n",
    "\n",
    "x_values = list(range(-30, 30, 1))\n",
    "y_values = list(map(lambda x: output_at(three_x_squared_minus_eleven, x),x_values))\n",
    "\n",
    "three_x_squared_minus_eleven_trace  = trace_values(x_values, y_values, mode = 'line')\n",
    "plotly.offline.iplot([three_x_squared_minus_eleven_trace], {'title': '3x^2 - 11'})"
   ]
  },
  {
   "cell_type": "markdown",
   "metadata": {},
   "source": [
    "### Moving to derivatives"
   ]
  },
  {
   "cell_type": "markdown",
   "metadata": {},
   "source": [
    "Remember that the derivative is the instantaneous rate of change of a function, and is expressed as:\n",
    "\n",
    "$$ f'(x) = \\lim_{ \\Delta x\\to0} \\frac{\\Delta y}{\\Delta x}  = \\lim_{ h\\to0} \\frac{f(x + h) - f(x)}{h}  $$ "
   ]
  },
  {
   "cell_type": "markdown",
   "metadata": {},
   "source": [
    "#### Writing a function for $\\Delta y$"
   ]
  },
  {
   "cell_type": "markdown",
   "metadata": {},
   "source": [
    "We can see from the formula above that  $\\Delta f = f(x + h) - f(x) $.  Write a function called `delta_f`, that given a `list_of_terms`, an `x_value`, and a value $h $, returns the change in $y$ over that period.\n",
    "> Use the `output_at` function in writing the `delta_f` function. "
   ]
  },
  {
   "cell_type": "code",
   "execution_count": 39,
   "metadata": {
    "collapsed": true
   },
   "outputs": [],
   "source": [
    "three_x_squared_minus_eleven = [(3, 2), (-11, 0)]"
   ]
  },
  {
   "cell_type": "code",
   "execution_count": 16,
   "metadata": {
    "collapsed": true
   },
   "outputs": [],
   "source": [
    "def delta_f(list_of_terms, x_value, h):\n",
    "    pass"
   ]
  },
  {
   "cell_type": "code",
   "execution_count": 17,
   "metadata": {},
   "outputs": [],
   "source": [
    "delta_f(three_x_squared_minus_eleven, 3, 2)"
   ]
  },
  {
   "cell_type": "markdown",
   "metadata": {},
   "source": [
    "So the above displays that for the function $f(x) = 3x^2 - 11$, when f = 3, and $h$ or $\\Delta x = 2$, that the change in output is 48.  Let's show this graphically."
   ]
  },
  {
   "cell_type": "code",
   "execution_count": 26,
   "metadata": {
    "collapsed": true
   },
   "outputs": [],
   "source": [
    "def delta_f_trace(list_of_terms, x_value, h):\n",
    "    initial_f = output_at(list_of_terms, x_value)\n",
    "    delta = delta_f(list_of_terms, x_value, h)\n",
    "    if initial_f:\n",
    "        return trace_values(x_values=[x_value + h, x_value + h], y_values=[initial_f, initial_f + delta], mode = 'line', name = 'delta f = ' + str(delta))\n",
    "\n",
    "def delta_x_trace(list_of_terms, x_value, h):\n",
    "    initial_f = output_at(list_of_terms, x_value)\n",
    "    if initial_f:\n",
    "        return trace_values(x_values=[x_value, x_value + h], y_values=[initial_f, initial_f], mode = 'line', name = 'delta x = ' + str(h))"
   ]
  },
  {
   "cell_type": "code",
   "execution_count": 27,
   "metadata": {},
   "outputs": [],
   "source": [
    "trace_delta_f = delta_f_trace(three_x_squared_minus_eleven, 3, 2)\n",
    "trace_delta_x = delta_x_trace(three_x_squared_minus_eleven, 3, 2)"
   ]
  },
  {
   "cell_type": "code",
   "execution_count": 29,
   "metadata": {},
   "outputs": [],
   "source": [
    "from graph import plot, trace_values\n",
    "\n",
    "x_values = list(range(0, 10, 1))\n",
    "y_values = list(map(lambda x: output_at(three_x_squared_minus_eleven, x),x_values))\n",
    "\n",
    "three_x_squared_minus_eleven_trace  = trace_values(x_values, y_values, mode = 'line')\n",
    "if three_x_squared_minus_eleven_trace and trace_delta_f and trace_delta_x:\n",
    "    plot([three_x_squared_minus_eleven_trace, trace_delta_f, trace_delta_x], {'title': '3x^2 - 11'})"
   ]
  },
  {
   "cell_type": "markdown",
   "metadata": {},
   "source": [
    "#### Calculating the derivative"
   ]
  },
  {
   "cell_type": "markdown",
   "metadata": {},
   "source": [
    "Now write a function, `df_dx` that calculates $\\frac{\\Delta f}{\\Delta x}$ when provided as arguments, a `list_of_terms`, and `x_value` for the value of $(x)$ the derivative is evaluated at, and `delta`, which represents $\\Delta x$.  \n",
    "\n",
    "Let's try this for $f(x) = 3x^2 - 11 $.  Round the result to three decimal places."
   ]
  },
  {
   "cell_type": "code",
   "execution_count": 30,
   "metadata": {
    "collapsed": true
   },
   "outputs": [],
   "source": [
    "def df_dx(list_of_terms, x_value, delta_x):\n",
    "    pass"
   ]
  },
  {
   "cell_type": "code",
   "execution_count": 31,
   "metadata": {},
   "outputs": [],
   "source": [
    "df_dx(three_x_squared_minus_eleven, 3, 2) # 31.012"
   ]
  },
  {
   "cell_type": "markdown",
   "metadata": {},
   "source": [
    "Ok, now that we have written a Python function that allows us to plot our list of terms, we can write a function that called `tangent_line_delta` that produces lines tangent to a provided function. We'll walk you through this one.  "
   ]
  },
  {
   "cell_type": "code",
   "execution_count": 37,
   "metadata": {
    "collapsed": true
   },
   "outputs": [],
   "source": [
    "def tangent_line_delta(list_of_terms, x_value, line_length = 4, delta = .01):     \n",
    "    derivative_at = df_dx(list_of_terms, x_value, delta)\n",
    "    y = output_at(list_of_terms, x_value)\n",
    "    x_minus = x_value - line_length/2\n",
    "    x_plus = x_value + line_length/2\n",
    "    if derivative_at:\n",
    "        y_minus = y - derivative_at * line_length/2\n",
    "        y_plus = y + derivative_at * line_length/2\n",
    "    if derivative_at and y and x_minus and x_plus and y_plus:\n",
    "        return trace_values([x_minus, x_value, x_plus],[y_minus, y, y_plus], name = 'df/dx = ' + str(derivative_at), mode = 'line')"
   ]
  },
  {
   "cell_type": "markdown",
   "metadata": {},
   "source": [
    "> Our `tangent_line_delta` takes as arguments `list_of_terms`, `x_value`, which is where our line should be tangent to our function, `line_length` as the length of our tangent line, and `delta` which is our $\\Delta x$.\n",
    "\n",
    "> The return value of `tangent_line_delta` is a dictionary that represents tangent line at that values of $x$.  It uses the `df_dx` function you wrote above to calculate the slope of the tangent line.  Once the slope of the tangent is calculated, we stretch out this tangent line by the `line_length` provided.  The beginning x value is just the midpoint minus the `line_length/2` and the ending $x$ value is midpoint plus the `line_length/2`.  Then we calculate our $y$ endpoints by starting at the $y$ along the function, and having them ending at `line_length/2*slope` in either direction. "
   ]
  },
  {
   "cell_type": "code",
   "execution_count": 38,
   "metadata": {
    "collapsed": true
   },
   "outputs": [],
   "source": [
    "def df_dx_traces(list_of_terms, x_value, line_length = 4, delta = .01):\n",
    "    tangent = tangent_line_delta(list_of_terms, x_value, line_length, delta)\n",
    "    delta_f = delta_f_trace(list_of_terms, x_value, delta)\n",
    "    delta_x = delta_x_trace(list_of_terms, x_value, delta)\n",
    "    if tangent and delta_f and delta_x:\n",
    "        return [tangent, delta_f, delta_x]"
   ]
  },
  {
   "cell_type": "markdown",
   "metadata": {},
   "source": [
    "See that the line becomes more tangential as x approaches zero by pluggin in smaller values for delta_x."
   ]
  },
  {
   "cell_type": "code",
   "execution_count": 39,
   "metadata": {},
   "outputs": [],
   "source": [
    "delta_x = 1\n",
    "if three_x_squared_minus_eleven:\n",
    "    three_x_plus_tangents = df_dx_traces(three_x_squared_minus_eleven, 3, line_length= 2*delta_x, delta = delta_x)\n",
    "# {'x': [1.5, 2, 2.5], 'y': [2.0, 4, 6.0]}\n",
    "if three_x_squared_minus_eleven_trace and three_x_plus_tangents:\n",
    "    plot([three_x_squared_minus_eleven_trace, *three_x_plus_tangents])\n"
   ]
  }
 ],
 "metadata": {
  "kernelspec": {
   "display_name": "Python 3",
   "language": "python",
   "name": "python3"
  },
  "language_info": {
   "codemirror_mode": {
    "name": "ipython",
    "version": 3
   },
   "file_extension": ".py",
   "mimetype": "text/x-python",
   "name": "python",
   "nbconvert_exporter": "python",
   "pygments_lexer": "ipython3",
   "version": "3.6.1"
  }
 },
 "nbformat": 4,
 "nbformat_minor": 2
}
